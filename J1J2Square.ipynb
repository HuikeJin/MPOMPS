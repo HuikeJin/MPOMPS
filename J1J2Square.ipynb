{
 "cells": [
  {
   "cell_type": "code",
   "execution_count": 1,
   "id": "3bc05599-4b44-4130-8805-8987d7b4cf9b",
   "metadata": {},
   "outputs": [
    {
     "name": "stderr",
     "output_type": "stream",
     "text": [
      "/Users/hk/miniconda3/lib/python3.8/site-packages/tenpy/tools/optimization.py:317: UserWarning: Couldn't load compiled cython code. Code will run a bit slower.\n",
      "  warnings.warn(\"Couldn't load compiled cython code. Code will run a bit slower.\")\n"
     ]
    }
   ],
   "source": [
    "%reload_ext autoreload\n",
    "%autoreload 2\n",
    "import numpy as np\n",
    "import scipy as sp\n",
    "import sys, os\n",
    "import pickle\n",
    "from matplotlib import pyplot as plt\n",
    "from tenpy.tools.params import asConfig\n",
    "from mpomps_tenpy import *\n",
    "from PartonSquare import *"
   ]
  },
  {
   "cell_type": "markdown",
   "id": "f4dfa248-7621-42ab-beb1-857f4ddf5147",
   "metadata": {},
   "source": [
    "<font color='orange'>\n",
    "This note demonstrate use MPO-MPS method to construct a SU(2)-symmetric fermionic Z2 QSL.\n",
    "    \n",
    "We consider a Z2-QSL ansatz on the square lattice, with a number of $N$ sites,\n",
    "$$H=\\sum_{ij}\\sum_{s}t_{ij}c^\\dagger_{i,s}c^{}_{i,s}+\\sum_{ij}\\Delta_{ij}c^\\dagger_{i,\\uparrow}c^\\dagger_{j,\\downarrow}-\\Delta^*_{ij}c^{}_{i,\\uparrow}c^{}_{j,\\downarrow}.$$\n",
    "Only $s$-wave pairings are allowed, namely, $$\\Delta_{ij}=\\Delta_{ji}.$$\n",
    "We use the basis of ${\\bf c}^\\dagger_{s}=\\left(c^\\dagger_{1,s}, c^\\dagger_{2,s}, ..., c^\\dagger_{N,s}\\right).$ (In this note, we use bold-font to denote a vector of fermions.) Then the above Hamiltonian can be expressed in a compact from:\n",
    "$$H=\\frac{1}{2}\\left({\\bf c}^\\dagger_{\\uparrow},{\\bf c}^\\dagger_{\\downarrow},{\\bf c}_{\\uparrow},{\\bf c}_{\\downarrow}\\right)\n",
    "\\left(\\begin{array}{cccc}\n",
    "t &   &  & \\Delta \\\\\n",
    "  & t & -\\Delta^T & \\\\\n",
    "  & -\\Delta^* & -t^* & \\\\\n",
    "\\Delta^\\dagger & & & -t^*  \n",
    "\\end{array}\\right)\n",
    "\\left(\\begin{array}{c} {\\bf c}_{\\uparrow},{\\bf c}_{\\downarrow},{\\bf c}^\\dagger_{\\uparrow},{\\bf c}^\\dagger_{\\downarrow} \\end{array}\\right)+\\frac{1}{2}{\\rm Tr}[{t}].\n",
    "$$\n",
    "The above Hamiltonian can be diagonalized by BdG transformation. The particle-hole symmetry makes the diagonalized Hamiltonian must exhibit the following form:\n",
    "$$H = \\sum_{m=1}^{2N}-\\epsilon_{m}\\left(d^\\dagger_m d_m - d_m d^\\dagger_m\\right),\\quad{}\\epsilon_{m}\\geq{}0,$$\n",
    "then the ground state of $H$ can be expressed as \n",
    "$$|\\Psi\\rangle=\\prod_{m=1}^{2N}d^\\dagger_m|0\\rangle_c,$$\n",
    "with $|0\\rangle_c$ the vacumm of $c$-fermion. Therefore, once we obtain the wavefunction encoded in $d$-fermion, we know how to calculate $|\\Psi\\rangle$. Abstractly, we can always express it as\n",
    "$${\\bf d}^\\dagger=\\left({\\bf c}^\\dagger_{\\uparrow},{\\bf c}^\\dagger_{\\downarrow}\\right)U+\\left({\\bf c}_{\\uparrow},{\\bf c}_{\\downarrow}\\right)V,$$\n",
    "with $U$ and $V$ diagonalizing $H$. Then, we can use the MPO-MPS method to conver $|\\Psi\\rangle$ into an MPS, see https://arxiv.org/abs/2001.04611.\n",
    "</font>"
   ]
  },
  {
   "cell_type": "code",
   "execution_count": 2,
   "id": "8f846fc3-8224-467a-b3a6-4c228a776ab7",
   "metadata": {},
   "outputs": [],
   "source": [
    "lx = 2;    ly = 2;            # the size of square lattice\n",
    "bcy = -1;    bcx = 0          # boundary condition for y and x \n",
    "t = 1;                        # 1st NN hopping on square lattice\n",
    "dxy = 0.3;                    # nth pairing on square lattice, with xy symmetry\n",
    "dxxmyy = 0.2                  # 1st pairing on square lattice, with x^2-y^2 symmetry\n",
    "params_spin = dict(lx=lx, ly=ly, bcy=bcy, bcx=bcx, dxxmyy=dxxmyy, dxy=dxy)"
   ]
  },
  {
   "cell_type": "markdown",
   "id": "0b908c8e-7d56-4726-8c8a-9749689dc34e",
   "metadata": {},
   "source": [
    "<font color='orange'>\n",
    "Below we show an example to compute the Z2 QSL state.\n",
    "\n",
    "<br> Z2QSLSquare --- the parton mean-field model\n",
    "<br> u, v        --- the $U$ and $V$ above, WITHOUT SU(2) form\n",
    "<br> cons_N      --- U(1) conservation of parton. \"Z2\" means that it is a Z2 QSL. if it is a U1 QSL, use cons_N=\"N\" instead\n",
    "<br> cons_S      --- so-far we do not implement SU(2) symmetry, therefore it is None\n",
    "<br> chi_max     --- bond dimension\n",
    "<br> psi_spin1   --- the obtained MPS\n",
    "</font>"
   ]
  },
  {
   "cell_type": "code",
   "execution_count": 3,
   "id": "ea8fa050-f822-483a-b6ee-5785ff0cfc95",
   "metadata": {},
   "outputs": [
    {
     "name": "stdout",
     "output_type": "stream",
     "text": [
      "calculating nonSU(2) g.s.\n",
      "t= 1.0 ,  dxy= 0.3 ,  dxxmyy= 0.2\n",
      "Wannier_Z2 [3.00970966 3.00970966 3.99029034 3.99029034 5.00970966 5.00970966\n",
      " 5.99029034 5.99029034]\n",
      "[-1.0198039 -1.0198039 -1.0198039 -1.0198039 -1.0198039 -1.0198039\n",
      " -1.0198039 -1.0198039  1.0198039  1.0198039  1.0198039  1.0198039\n",
      "  1.0198039  1.0198039  1.0198039  1.0198039]\n",
      "applied the 1-th mode, the fidelity is 1.0, the bond dimension is 2\n",
      "applied the 2-th mode, the fidelity is 1.0, the bond dimension is 4\n",
      "applied the 3-th mode, the fidelity is 1.0, the bond dimension is 8\n",
      "applied the 4-th mode, the fidelity is 1.0, the bond dimension is 16\n",
      "applied the 5-th mode, the fidelity is 1.0, the bond dimension is 16\n",
      "applied the 6-th mode, the fidelity is 1.0, the bond dimension is 16\n",
      "applied the 7-th mode, the fidelity is 1.0, the bond dimension is 16\n",
      "applied the 8-th mode, the fidelity is 1.0, the bond dimension is 16\n"
     ]
    }
   ],
   "source": [
    "model = Z2QSLSquare(params_spin)\n",
    "u, v = model.calc_wannier_state(flag=None)\n",
    "print(model.eng_real_nonSU2)\n",
    "params_mpompsz2 = dict(cons_N=\"Z2\", cons_S=None, trunc_params=dict(chi_max=128))\n",
    "eng_spin1 = MPOMPSZ2(u, v, **params_mpompsz2)\n",
    "eng_spin1.run()\n",
    "psi_spin1 = eng_spin1.psi.copy()\n",
    "psi_spin1.norm = 1\n",
    "psi_spin1.canonical_form()"
   ]
  },
  {
   "cell_type": "markdown",
   "id": "50ea4407-ce41-49b3-86da-273f9b4cbc02",
   "metadata": {},
   "source": [
    "<font color='orange'>\n",
    "Note that $H$ exhibit SU(2) symmetry. It can be revealed by rearrange $H$ as \n",
    "    $$H=H_{\\uparrow}+H_{\\downarrow}+\\frac{1}{2}{\\rm Tr}[t].$$\n",
    "Here \n",
    "$$H_{\\uparrow}=\\frac{1}{2}\\left({\\bf c}^\\dagger_{\\uparrow},{\\bf c}_{\\downarrow}\\right)\n",
    "\\left(\\begin{array}{cc}\n",
    "t  & \\Delta \\\\\n",
    "\\Delta^\\dagger  & -t^*  \n",
    "\\end{array}\\right)\n",
    "\\left(\\begin{array}{c} {\\bf c}_{\\uparrow},{\\bf c}^\\dagger_{\\downarrow} \\end{array}\\right),\n",
    "$$\n",
    "and \n",
    "$$H_{\\downarrow}=\\frac{1}{2}\\left({\\bf c}^\\dagger_{\\downarrow},{\\bf c}_{\\uparrow}\\right)\n",
    "\\left(\\begin{array}{cc}\n",
    "   t & -\\Delta^T  \\\\\n",
    "   -\\Delta^* & -t^*  \\\\\n",
    "\\end{array}\\right)\n",
    "\\left(\\begin{array}{c}{\\bf c}_{\\downarrow},{\\bf c}^\\dagger_{\\uparrow} \\end{array}\\right).\n",
    "$$\n",
    "$H_{\\uparrow}$ is diagonalized by a $2N\\times{}2N$ matrix $M_{\\uparrow}$ with \n",
    "$$M_{\\uparrow}=\\left(\\begin{array}{cc}\n",
    "   U^\\uparrow_{11} & U^\\uparrow_{12}  \\\\\n",
    "   U^\\uparrow_{21}  & U^\\uparrow_{22}  \\\\\n",
    "\\end{array}\\right).$$\n",
    "By $SU(2)$ symmetry, we can denote the matrix $M_{\\downarrow}$ diagonalzing $H_{\\downarrow}$ as\n",
    "$$M_{\\downarrow}=\\left(\\begin{array}{cc}\n",
    "   (U^\\uparrow_{22})^* & (U^\\uparrow_{21})^*  \\\\\n",
    "   (U^\\uparrow_{12})^* & (U^\\uparrow_{11})^*  \\\\\n",
    "\\end{array}\\right).$$\n",
    "Indeed, the matrix diagonalzing $H$ reads\n",
    "$$M=\\left(\\begin{array}{cccc}\n",
    "U^\\uparrow_{11} &   &  & U^\\uparrow_{12} \\\\\n",
    "  & (U^\\uparrow_{22})^* & (U^\\uparrow_{21})^* & \\\\\n",
    "  & (U^\\uparrow_{12})^* & (U^\\uparrow_{11})^* & \\\\\n",
    "U^\\uparrow_{21} & & & U^\\uparrow_{22}  \n",
    "\\end{array}\\right)\n",
    ".\n",
    "$$\n",
    "\n",
    "<br> The above special form allowed us to implement $SU(2)$ symmetry for the MPO-MPS method. If we want to implement $SU(2)$ symmetry, we need to (i) construct a 2-spinon mode by arranging a negative-energy mode in $H_{\\uparrow}$ and the conjugate mode in $H_{\\downarrow}$ in a singlet form and (ii) convert this 2-spinon mode into a MPO. \n",
    "<br> In this note, we only consider $U(1)\\in{}SU(2)$ symmetry for the $S^z$ conservation. Then we can simply express the ground state as\n",
    "$$|\\Psi\\rangle=\\prod_{n=1}^{N}\\left[({\\bf c}^\\dagger_{\\uparrow}U^{\\uparrow}_{11}+{\\bf c}_{\\downarrow}U^{\\uparrow}_{21})_n\\right]\\prod_{n=1}^{N}\\left[({\\bf c}^\\dagger_{\\downarrow}U^{\\uparrow,*}_{22}+{\\bf c}_{\\uparrow}U^{\\uparrow,*}_{12})_n\\right]|0\\rangle_{c}.$$\n",
    "Below we show an example.\n",
    "\n",
    "\n",
    "<br> Z2QSLSquare --- the parton mean-field model\n",
    "<br> flag=\"SU2\"  --- the wannier_state has SU2 symmetry\n",
    "<br> u, v        --- the $U$ and $V$ above, WITH SU(2) form\n",
    "<br> cons_N      --- U(1) conservation of parton. \"Z2\" means that it is a Z2 QSL. if it is a U1 QSL, use cons_N=\"N\" instead\n",
    "<br> cons_S      --- it can be \"2*Sz\" or None. In order to benchmark, we use None\n",
    "<br> chi_max     --- bond dimension\n",
    "<br> psi_spin2   --- the obtained MPS, with U(1) symmetry w.r.t $S^z$\n",
    "</font>"
   ]
  },
  {
   "cell_type": "code",
   "execution_count": 4,
   "id": "74c476a8-0c47-464d-962c-6322cfeda9ce",
   "metadata": {
    "scrolled": true
   },
   "outputs": [
    {
     "name": "stdout",
     "output_type": "stream",
     "text": [
      "calculating SU(2)-symmetric g.s.\n",
      "t= 1.0 ,  dxy= 0.3 ,  dxxmyy= 0.2\n",
      "Ap:  [] \n",
      " Bp:  [] \n",
      " Cp:  [] \n",
      " Dp:  [(0, 0), (1, 1), (2, 2), (3, 3)]\n",
      "Am:  [] \n",
      " Bm:  [] \n",
      " Cm:  [] \n",
      " Dm:  [(0, 0), (1, 1), (2, 2), (3, 3)]\n",
      "6.0560865118443576e-15\n",
      "SU2 eng [-1.0198039 -1.0198039 -1.0198039 -1.0198039 -1.0198039 -1.0198039\n",
      " -1.0198039 -1.0198039  1.0198039  1.0198039  1.0198039  1.0198039\n",
      "  1.0198039  1.0198039  1.0198039  1.0198039]\n",
      "Wannier_Z2 [2. 2. 3. 3.]\n",
      "Wannier_Z2 [2. 2. 3. 3.]\n",
      "[-1.0198039 -1.0198039 -1.0198039 -1.0198039  1.0198039  1.0198039\n",
      "  1.0198039  1.0198039]\n",
      "applied the 1-th mode, the fidelity is 1.0, the bond dimension is 2\n",
      "applied the 2-th mode, the fidelity is 1.0, the bond dimension is 4\n",
      "applied the 3-th mode, the fidelity is 1.0, the bond dimension is 8\n",
      "applied the 4-th mode, the fidelity is 1.0, the bond dimension is 16\n",
      "applied the 5-th mode, the fidelity is 1.0, the bond dimension is 8\n",
      "applied the 6-th mode, the fidelity is 1.0, the bond dimension is 16\n",
      "applied the 7-th mode, the fidelity is 1.0, the bond dimension is 8\n",
      "applied the 8-th mode, the fidelity is 1.0, the bond dimension is 16\n"
     ]
    }
   ],
   "source": [
    "model = Z2QSLSquare(params_spin)\n",
    "u, v = model.calc_wannier_state(flag=\"SU2\")\n",
    "print(model.eng_real_u)\n",
    "# Note!! for U(1), use cons_S=\"2*Sz\"\n",
    "params_mpompsz2 = dict(cons_N=\"Z2\", cons_S=None, trunc_params=dict(chi_max=128))\n",
    "eng_spin2 = MPOMPSZ2(u, v, **params_mpompsz2)\n",
    "eng_spin2.run()\n",
    "psi_spin2 = eng_spin2.psi.copy()\n",
    "psi_spin2.norm = 1\n",
    "psi_spin2.canonical_form()"
   ]
  },
  {
   "cell_type": "markdown",
   "id": "6ed5c727-93ec-4deb-a8a4-8cc57f7947bf",
   "metadata": {},
   "source": [
    "<font color='orange'>\n",
    "If we only want to implemnt $U(1)$ symmetry, we can further simplify the MPO-MPS calculation by taking a transformation as \n",
    "$${\\bf c}_{\\downarrow}\\Rightarrow{}\\tilde{\\bf c}^\\dagger_{\\downarrow}.$$\n",
    "With this transformatin, the vacuum becomes\n",
    "    $$|0\\rangle_c\\Rightarrow{}|0,\\downarrow\\rangle_c,$$\n",
    "where ${\\bf c}_{\\uparrow}|0,\\downarrow\\rangle_c=0$ and $\\tilde{\\bf c}_{\\uparrow}|0,\\downarrow\\rangle_c=0.$ Note that $|0,\\downarrow\\rangle_c$ breaks the SU(2) symmetry. \n",
    "<br> It is easy to verify that $\\tilde{H}_{\\downarrow}$ (the transformed $H_{\\downarrow}$) and $H_{\\uparrow}$ have the same form, namely, $\\tilde{H}_{\\downarrow}=H_{\\uparrow}$. \n",
    "<br> The ground state becomes\n",
    "$$|\\Psi\\rangle=\\prod_{n=1}^{N}\\left[({\\bf c}^\\dagger_{\\uparrow}U^{\\uparrow}_{11}+{\\bf c}_{\\downarrow}U^{\\uparrow}_{21})_n\\right]|0,\\downarrow\\rangle_{c}.$$ Therefore, with this transformation, we reduce the number of occupied modes by N.\n",
    "<br> Below we show an example.\n",
    "<br>\n",
    "<br> flag=\"SU2PH\"    ---   SU(2) with particle-hole transformation\n",
    "<br> cons_S=\"2*Sz\"   ---   U(1) symmetry, it also can be None\n",
    "</font>"
   ]
  },
  {
   "cell_type": "code",
   "execution_count": 5,
   "id": "18d633ab-d46d-4e83-8263-437c58172141",
   "metadata": {},
   "outputs": [
    {
     "name": "stdout",
     "output_type": "stream",
     "text": [
      "calculating SU(2)-symmetric g.s.\n",
      "t= 1.0 ,  dxy= 0.3 ,  dxxmyy= 0.2\n",
      "Ap:  [] \n",
      " Bp:  [] \n",
      " Cp:  [] \n",
      " Dp:  [(0, 0), (1, 1), (2, 2), (3, 3)]\n",
      "Am:  [] \n",
      " Bm:  [] \n",
      " Cm:  [] \n",
      " Dm:  [(0, 0), (1, 1), (2, 2), (3, 3)]\n",
      "6.0560865118443576e-15\n",
      "SU2 eng [-1.0198039 -1.0198039 -1.0198039 -1.0198039 -1.0198039 -1.0198039\n",
      " -1.0198039 -1.0198039  1.0198039  1.0198039  1.0198039  1.0198039\n",
      "  1.0198039  1.0198039  1.0198039  1.0198039]\n",
      "Wannier_Z2 [2. 2. 3. 3.]\n",
      "Wannier_Z2 [2. 2. 3. 3.]\n",
      "(4, 8) (4, 8)\n",
      "applied the 1-th mode, the fidelity is 1.0, the bond dimension is 2\n",
      "applied the 2-th mode, the fidelity is 1.0, the bond dimension is 4\n",
      "applied the 3-th mode, the fidelity is 1.0, the bond dimension is 8\n",
      "applied the 4-th mode, the fidelity is 1.0, the bond dimension is 16\n"
     ]
    }
   ],
   "source": [
    "model = Z2QSLSquare(params_spin)\n",
    "u, v = model.calc_wannier_state(flag=\"SU2PH\")\n",
    "print(u.shape,v.shape)\n",
    "params_mpompsz2 = dict(cons_N=\"Z2\", cons_S=None, trunc_params=dict(chi_max=128))\n",
    "eng_spin3 = MPOMPSZ2(u, v, **params_mpompsz2)\n",
    "eng_spin3.init_mps(init=[2]*lx*ly)\n",
    "eng_spin3.run()\n",
    "psi_spin3 = eng_spin3.psi.copy()\n",
    "psi_spin3.norm = 1\n",
    "psi_spin3.canonical_form()"
   ]
  },
  {
   "cell_type": "code",
   "execution_count": 6,
   "id": "5c38d353-07e0-4fde-83f2-0b2e60d2fdc5",
   "metadata": {},
   "outputs": [
    {
     "name": "stdout",
     "output_type": "stream",
     "text": [
      "-1.0000000000000004 -1.0000000000000004 1.0000000000000002\n"
     ]
    }
   ],
   "source": [
    "print(psi_spin2.overlap(psi_spin1), psi_spin2.overlap(psi_spin3), psi_spin3.overlap(psi_spin1))"
   ]
  }
 ],
 "metadata": {
  "kernelspec": {
   "display_name": "Python 3 (ipykernel)",
   "language": "python",
   "name": "python3"
  },
  "language_info": {
   "codemirror_mode": {
    "name": "ipython",
    "version": 3
   },
   "file_extension": ".py",
   "mimetype": "text/x-python",
   "name": "python",
   "nbconvert_exporter": "python",
   "pygments_lexer": "ipython3",
   "version": "3.8.17"
  }
 },
 "nbformat": 4,
 "nbformat_minor": 5
}
